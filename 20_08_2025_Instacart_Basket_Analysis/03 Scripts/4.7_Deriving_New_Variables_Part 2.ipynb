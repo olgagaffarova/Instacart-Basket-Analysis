{
 "cells": [
  {
   "cell_type": "markdown",
   "id": "f2d7c31f-c2b5-44c6-bffe-ea697f295911",
   "metadata": {},
   "source": [
    "# 01 Importing Libraries "
   ]
  },
  {
   "cell_type": "code",
   "execution_count": 1,
   "id": "7859149f-123e-49ae-93b7-92aeb9145e63",
   "metadata": {},
   "outputs": [],
   "source": [
    "import pandas as pd\n",
    "import numpy as np\n",
    "import os"
   ]
  },
  {
   "cell_type": "markdown",
   "id": "9e083486-4242-4f93-a6d6-f79972032a9f",
   "metadata": {},
   "source": [
    "# 02 Importing Data"
   ]
  },
  {
   "cell_type": "code",
   "execution_count": 2,
   "id": "ba4f8926-1c47-44e1-a91c-5015cf7cb75f",
   "metadata": {},
   "outputs": [],
   "source": [
    "path = r'/Users/woodoooo/Desktop/Instacart Basket Analysis'\n",
    "df_ords_prods_merge = pd.read_pickle(os.path.join(path, '02 Data' , 'Prepared Data', '4.7_ords_prods_merge_Part 1.pkl'))"
   ]
  },
  {
   "cell_type": "code",
   "execution_count": 3,
   "id": "d4901513-47a8-4e02-8466-d277e02e265b",
   "metadata": {},
   "outputs": [],
   "source": [
    "# Change data types for multiple columns\n",
    "df_ords_prods_merge = df_ords_prods_merge.astype({\n",
    "    'order_id': 'int32',\n",
    "    'user_id': 'int32',\n",
    "    'order_number': 'int8',\n",
    "    'order_day_of_week': 'int8',\n",
    "    'order_hour_of_day': 'int8',\n",
    "    'product_id': 'int32',\n",
    "    'add_to_cart_order': 'int32',\n",
    "    'reordered': 'int8',\n",
    "    'days_since_prior_order': 'float32',\n",
    "    'aisle_id': 'int32',\n",
    "    'department_id': 'int32',\n",
    "    'prices': 'float32'\n",
    "    })"
   ]
  },
  {
   "cell_type": "code",
   "execution_count": 2,
   "id": "b4b0115f-2fd0-4c2d-84dc-6429c8e50836",
   "metadata": {},
   "outputs": [
    {
     "ename": "NameError",
     "evalue": "name 'df_ords_prods_merge' is not defined",
     "output_type": "error",
     "traceback": [
      "\u001b[0;31m---------------------------------------------------------------------------\u001b[0m",
      "\u001b[0;31mNameError\u001b[0m                                 Traceback (most recent call last)",
      "Cell \u001b[0;32mIn[2], line 1\u001b[0m\n\u001b[0;32m----> 1\u001b[0m df_ords_prods_merge\u001b[38;5;241m.\u001b[39mhead(\u001b[38;5;241m10\u001b[39m)\n",
      "\u001b[0;31mNameError\u001b[0m: name 'df_ords_prods_merge' is not defined"
     ]
    }
   ],
   "source": [
    "df_ords_prods_merge.head()"
   ]
  },
  {
   "cell_type": "markdown",
   "id": "5abe6f6e-bf93-4671-9796-0698c7900dfc",
   "metadata": {},
   "source": [
    "# 03 Creating the 'Busiest days' column"
   ]
  },
  {
   "cell_type": "markdown",
   "id": "438f06c5-a762-473c-9f36-938cdc4b3c28",
   "metadata": {},
   "source": [
    "### Suppose your clients have changed their minds about the labels you created in your “busiest_day” column. Now, they want “Busiest day” to become “Busiest days” (plural). This label should correspond with the two busiest days of the week as opposed to the single busiest day. At the same time, they’d also like to know the two slowest days. Create a new column for this using a suitable method."
   ]
  },
  {
   "cell_type": "code",
   "execution_count": 6,
   "id": "6158043b-daad-4e65-9a56-e820507d144b",
   "metadata": {},
   "outputs": [
    {
     "data": {
      "text/plain": [
       "Busiest day\n",
       "Regularly busy    22416875\n",
       "Busiest day        6204182\n",
       "Least busy         3783802\n",
       "Name: count, dtype: int64"
      ]
     },
     "execution_count": 6,
     "metadata": {},
     "output_type": "execute_result"
    }
   ],
   "source": [
    "df_ords_prods_merge['Busiest day'].value_counts(dropna = False)"
   ]
  },
  {
   "cell_type": "code",
   "execution_count": 9,
   "id": "c92f8671-44e4-4e9f-bde1-a5cf4c52b801",
   "metadata": {},
   "outputs": [],
   "source": [
    "# Count how many orders happen on each day of the week:\n",
    "\n",
    "orders_per_day = df_ords_prods_merge['order_day_of_week'].value_counts()"
   ]
  },
  {
   "cell_type": "code",
   "execution_count": 10,
   "id": "3c7e08e4-a668-4b08-9038-33c6a9703fd3",
   "metadata": {},
   "outputs": [
    {
     "data": {
      "text/plain": [
       "order_day_of_week\n",
       "0    6204182\n",
       "1    5660230\n",
       "6    4496490\n",
       "2    4213830\n",
       "5    4205791\n",
       "3    3840534\n",
       "4    3783802\n",
       "Name: count, dtype: int64"
      ]
     },
     "execution_count": 10,
     "metadata": {},
     "output_type": "execute_result"
    }
   ],
   "source": [
    "orders_per_day"
   ]
  },
  {
   "cell_type": "code",
   "execution_count": 11,
   "id": "8be13535-9b79-4144-a771-72c137502645",
   "metadata": {},
   "outputs": [],
   "source": [
    "df_ords_prods_merge.loc[\n",
    "    (df_ords_prods_merge['order_day_of_week'] == 0) | \n",
    "    (df_ords_prods_merge['order_day_of_week'] == 1),\n",
    "    'Busiest_days'\n",
    "] = 'Busiest day'"
   ]
  },
  {
   "cell_type": "code",
   "execution_count": 12,
   "id": "f1e0dfad-fc75-4e1b-8a6c-146902d5c1c7",
   "metadata": {},
   "outputs": [],
   "source": [
    "df_ords_prods_merge.loc[\n",
    "    (df_ords_prods_merge['order_day_of_week'] == 3) | \n",
    "    (df_ords_prods_merge['order_day_of_week'] == 4),\n",
    "    'Busiest_days'\n",
    "] = 'Slowest day'"
   ]
  },
  {
   "cell_type": "code",
   "execution_count": 13,
   "id": "0792aedc-8955-4d22-9696-4748f27a2cf1",
   "metadata": {},
   "outputs": [],
   "source": [
    "df_ords_prods_merge.loc[\n",
    "    (df_ords_prods_merge['order_day_of_week'] == 6) | \n",
    "    (df_ords_prods_merge['order_day_of_week'] == 2) |\n",
    "    (df_ords_prods_merge['order_day_of_week'] == 5),\n",
    "    'Busiest_days'\n",
    "] = 'Regularly busy day'"
   ]
  },
  {
   "cell_type": "code",
   "execution_count": 14,
   "id": "9b30e4b5-a628-4857-b247-4d82d709e7fc",
   "metadata": {},
   "outputs": [
    {
     "data": {
      "text/html": [
       "<div>\n",
       "<style scoped>\n",
       "    .dataframe tbody tr th:only-of-type {\n",
       "        vertical-align: middle;\n",
       "    }\n",
       "\n",
       "    .dataframe tbody tr th {\n",
       "        vertical-align: top;\n",
       "    }\n",
       "\n",
       "    .dataframe thead th {\n",
       "        text-align: right;\n",
       "    }\n",
       "</style>\n",
       "<table border=\"1\" class=\"dataframe\">\n",
       "  <thead>\n",
       "    <tr style=\"text-align: right;\">\n",
       "      <th></th>\n",
       "      <th>order_id</th>\n",
       "      <th>user_id</th>\n",
       "      <th>order_number</th>\n",
       "      <th>order_day_of_week</th>\n",
       "      <th>order_hour_of_day</th>\n",
       "      <th>days_since_prior_order</th>\n",
       "      <th>new_customer</th>\n",
       "      <th>product_id</th>\n",
       "      <th>add_to_cart_order</th>\n",
       "      <th>reordered</th>\n",
       "      <th>product_name</th>\n",
       "      <th>aisle_id</th>\n",
       "      <th>department_id</th>\n",
       "      <th>prices</th>\n",
       "      <th>match</th>\n",
       "      <th>price_range_loc</th>\n",
       "      <th>Busiest day</th>\n",
       "      <th>Busiest_days</th>\n",
       "    </tr>\n",
       "  </thead>\n",
       "  <tbody>\n",
       "    <tr>\n",
       "      <th>0</th>\n",
       "      <td>2539329</td>\n",
       "      <td>1</td>\n",
       "      <td>1</td>\n",
       "      <td>2</td>\n",
       "      <td>8</td>\n",
       "      <td>NaN</td>\n",
       "      <td>True</td>\n",
       "      <td>196</td>\n",
       "      <td>1</td>\n",
       "      <td>0</td>\n",
       "      <td>Soda</td>\n",
       "      <td>77</td>\n",
       "      <td>7</td>\n",
       "      <td>9.0</td>\n",
       "      <td>both</td>\n",
       "      <td>Mid-range</td>\n",
       "      <td>Regularly busy</td>\n",
       "      <td>Regularly busy day</td>\n",
       "    </tr>\n",
       "    <tr>\n",
       "      <th>1</th>\n",
       "      <td>2539329</td>\n",
       "      <td>1</td>\n",
       "      <td>1</td>\n",
       "      <td>2</td>\n",
       "      <td>8</td>\n",
       "      <td>NaN</td>\n",
       "      <td>True</td>\n",
       "      <td>14084</td>\n",
       "      <td>2</td>\n",
       "      <td>0</td>\n",
       "      <td>Organic Unsweetened Vanilla Almond Milk</td>\n",
       "      <td>91</td>\n",
       "      <td>16</td>\n",
       "      <td>12.5</td>\n",
       "      <td>both</td>\n",
       "      <td>Mid-range</td>\n",
       "      <td>Regularly busy</td>\n",
       "      <td>Regularly busy day</td>\n",
       "    </tr>\n",
       "    <tr>\n",
       "      <th>2</th>\n",
       "      <td>2539329</td>\n",
       "      <td>1</td>\n",
       "      <td>1</td>\n",
       "      <td>2</td>\n",
       "      <td>8</td>\n",
       "      <td>NaN</td>\n",
       "      <td>True</td>\n",
       "      <td>12427</td>\n",
       "      <td>3</td>\n",
       "      <td>0</td>\n",
       "      <td>Original Beef Jerky</td>\n",
       "      <td>23</td>\n",
       "      <td>19</td>\n",
       "      <td>4.4</td>\n",
       "      <td>both</td>\n",
       "      <td>Low-range</td>\n",
       "      <td>Regularly busy</td>\n",
       "      <td>Regularly busy day</td>\n",
       "    </tr>\n",
       "    <tr>\n",
       "      <th>3</th>\n",
       "      <td>2539329</td>\n",
       "      <td>1</td>\n",
       "      <td>1</td>\n",
       "      <td>2</td>\n",
       "      <td>8</td>\n",
       "      <td>NaN</td>\n",
       "      <td>True</td>\n",
       "      <td>26088</td>\n",
       "      <td>4</td>\n",
       "      <td>0</td>\n",
       "      <td>Aged White Cheddar Popcorn</td>\n",
       "      <td>23</td>\n",
       "      <td>19</td>\n",
       "      <td>4.7</td>\n",
       "      <td>both</td>\n",
       "      <td>Low-range</td>\n",
       "      <td>Regularly busy</td>\n",
       "      <td>Regularly busy day</td>\n",
       "    </tr>\n",
       "    <tr>\n",
       "      <th>4</th>\n",
       "      <td>2539329</td>\n",
       "      <td>1</td>\n",
       "      <td>1</td>\n",
       "      <td>2</td>\n",
       "      <td>8</td>\n",
       "      <td>NaN</td>\n",
       "      <td>True</td>\n",
       "      <td>26405</td>\n",
       "      <td>5</td>\n",
       "      <td>0</td>\n",
       "      <td>XL Pick-A-Size Paper Towel Rolls</td>\n",
       "      <td>54</td>\n",
       "      <td>17</td>\n",
       "      <td>1.0</td>\n",
       "      <td>both</td>\n",
       "      <td>Low-range</td>\n",
       "      <td>Regularly busy</td>\n",
       "      <td>Regularly busy day</td>\n",
       "    </tr>\n",
       "  </tbody>\n",
       "</table>\n",
       "</div>"
      ],
      "text/plain": [
       "   order_id  user_id  order_number  order_day_of_week  order_hour_of_day  \\\n",
       "0   2539329        1             1                  2                  8   \n",
       "1   2539329        1             1                  2                  8   \n",
       "2   2539329        1             1                  2                  8   \n",
       "3   2539329        1             1                  2                  8   \n",
       "4   2539329        1             1                  2                  8   \n",
       "\n",
       "   days_since_prior_order  new_customer  product_id  add_to_cart_order  \\\n",
       "0                     NaN          True         196                  1   \n",
       "1                     NaN          True       14084                  2   \n",
       "2                     NaN          True       12427                  3   \n",
       "3                     NaN          True       26088                  4   \n",
       "4                     NaN          True       26405                  5   \n",
       "\n",
       "   reordered                             product_name  aisle_id  \\\n",
       "0          0                                     Soda        77   \n",
       "1          0  Organic Unsweetened Vanilla Almond Milk        91   \n",
       "2          0                      Original Beef Jerky        23   \n",
       "3          0               Aged White Cheddar Popcorn        23   \n",
       "4          0         XL Pick-A-Size Paper Towel Rolls        54   \n",
       "\n",
       "   department_id  prices match price_range_loc     Busiest day  \\\n",
       "0              7     9.0  both       Mid-range  Regularly busy   \n",
       "1             16    12.5  both       Mid-range  Regularly busy   \n",
       "2             19     4.4  both       Low-range  Regularly busy   \n",
       "3             19     4.7  both       Low-range  Regularly busy   \n",
       "4             17     1.0  both       Low-range  Regularly busy   \n",
       "\n",
       "         Busiest_days  \n",
       "0  Regularly busy day  \n",
       "1  Regularly busy day  \n",
       "2  Regularly busy day  \n",
       "3  Regularly busy day  \n",
       "4  Regularly busy day  "
      ]
     },
     "execution_count": 14,
     "metadata": {},
     "output_type": "execute_result"
    }
   ],
   "source": [
    "df_ords_prods_merge.head()"
   ]
  },
  {
   "cell_type": "code",
   "execution_count": 15,
   "id": "afd3bf99-4423-4deb-9f96-97baaac9c8e0",
   "metadata": {},
   "outputs": [
    {
     "data": {
      "text/plain": [
       "Busiest_days\n",
       "Regularly busy day    12916111\n",
       "Busiest day           11864412\n",
       "Slowest day            7624336\n",
       "Name: count, dtype: int64"
      ]
     },
     "execution_count": 15,
     "metadata": {},
     "output_type": "execute_result"
    }
   ],
   "source": [
    "df_ords_prods_merge['Busiest_days'].value_counts(dropna = False)"
   ]
  },
  {
   "cell_type": "code",
   "execution_count": 18,
   "id": "8bcb9d86-28f9-4d90-8d7c-59b99771c0d0",
   "metadata": {},
   "outputs": [
    {
     "data": {
      "text/plain": [
       "np.int64(32404859)"
      ]
     },
     "execution_count": 18,
     "metadata": {},
     "output_type": "execute_result"
    }
   ],
   "source": [
    "df_ords_prods_merge['Busiest_days'].value_counts().sum()"
   ]
  },
  {
   "cell_type": "code",
   "execution_count": 20,
   "id": "b0c65ab0-9475-43ba-a2da-c7e5d06ec65e",
   "metadata": {},
   "outputs": [
    {
     "data": {
      "text/plain": [
       "np.int64(32404859)"
      ]
     },
     "execution_count": 20,
     "metadata": {},
     "output_type": "execute_result"
    }
   ],
   "source": [
    "df_ords_prods_merge['Busiest day'].value_counts().sum()"
   ]
  },
  {
   "cell_type": "markdown",
   "id": "4314e391-4d52-4cca-ac62-73ae5a6795f6",
   "metadata": {},
   "source": [
    "Both of the columns have the same total count of 32,404,859 rows meaning all rows have been allocated."
   ]
  },
  {
   "cell_type": "markdown",
   "id": "1fd9480c-3882-440f-9c0e-122bcc9e87cd",
   "metadata": {},
   "source": [
    "# 04 Creating the 'Busiest hours of the days' column"
   ]
  },
  {
   "cell_type": "markdown",
   "id": "d3cea46a-d141-41b9-8051-239f15789ec4",
   "metadata": {},
   "source": [
    "### When too many users make Instacart orders at the same time, the app freezes. The senior technical officer at Instacart wants you to identify the busiest hours of the day. Rather than by hour, they want periods of time labeled “Most orders,” “Average orders,” and “Fewest orders.” Create a new column containing these labels called “busiest_period_of_day.”"
   ]
  },
  {
   "cell_type": "code",
   "execution_count": 36,
   "id": "05c43b23-970d-404b-a77c-3d5eab36a3aa",
   "metadata": {},
   "outputs": [
    {
     "data": {
      "text/plain": [
       "order_hour_of_day\n",
       "10    2761760\n",
       "11    2736140\n",
       "14    2689136\n",
       "15    2662144\n",
       "13    2660954\n",
       "12    2618532\n",
       "16    2535202\n",
       "9     2454203\n",
       "17    2087654\n",
       "8     1718118\n",
       "18    1636502\n",
       "19    1258305\n",
       "20     976156\n",
       "7      891054\n",
       "21     795637\n",
       "22     634225\n",
       "23     402316\n",
       "6      290493\n",
       "0      218769\n",
       "1      115700\n",
       "5       87961\n",
       "2       69375\n",
       "4       53242\n",
       "3       51281\n",
       "Name: count, dtype: int64"
      ]
     },
     "execution_count": 36,
     "metadata": {},
     "output_type": "execute_result"
    }
   ],
   "source": [
    "df_ords_prods_merge['order_hour_of_day'].value_counts(dropna = False)"
   ]
  },
  {
   "cell_type": "code",
   "execution_count": 25,
   "id": "2356849b-b913-435d-9719-2eba063789d5",
   "metadata": {},
   "outputs": [],
   "source": [
    "df_ords_prods_merge.loc[df_ords_prods_merge['order_hour_of_day'].isin([9,10,11,12,13,14,15,16]), 'busiest_period_of_day'] = 'Most orders'\n",
    "\n",
    "df_ords_prods_merge.loc[df_ords_prods_merge['order_hour_of_day'].isin([8,17,18,19]), 'busiest_period_of_day'] = 'Average orders'\n",
    "\n",
    "df_ords_prods_merge.loc[df_ords_prods_merge['order_hour_of_day'].isin([20,21,22,23,0,1,2,3,4,5,6,7]), 'busiest_period_of_day'] = 'Fewest orders'"
   ]
  },
  {
   "cell_type": "code",
   "execution_count": 26,
   "id": "b991e012-c982-4d4b-8c60-c4dafb8826ec",
   "metadata": {},
   "outputs": [
    {
     "data": {
      "text/plain": [
       "busiest_period_of_day\n",
       "Most orders       21118071\n",
       "Average orders     6700579\n",
       "Fewest orders      4586209\n",
       "Name: count, dtype: int64"
      ]
     },
     "execution_count": 26,
     "metadata": {},
     "output_type": "execute_result"
    }
   ],
   "source": [
    "df_ords_prods_merge['busiest_period_of_day'].value_counts(dropna = False)"
   ]
  },
  {
   "cell_type": "code",
   "execution_count": 27,
   "id": "bf207c58-0686-473f-9676-50e26b4ff76a",
   "metadata": {},
   "outputs": [
    {
     "data": {
      "text/plain": [
       "busiest_period_of_day\n",
       "Average orders                             [8, 19, 18, 17]\n",
       "Fewest orders     [7, 20, 0, 21, 22, 5, 23, 4, 6, 1, 2, 3]\n",
       "Most orders                [12, 15, 9, 14, 16, 11, 10, 13]\n",
       "Name: order_hour_of_day, dtype: object"
      ]
     },
     "execution_count": 27,
     "metadata": {},
     "output_type": "execute_result"
    }
   ],
   "source": [
    "df_ords_prods_merge.groupby('busiest_period_of_day')['order_hour_of_day'].unique()"
   ]
  },
  {
   "cell_type": "code",
   "execution_count": 28,
   "id": "f0b8e08a-e009-44c9-9a18-e058289adee4",
   "metadata": {},
   "outputs": [
    {
     "data": {
      "text/plain": [
       "busiest_period_of_day  order_hour_of_day\n",
       "Average orders         8                    1718118\n",
       "                       17                   2087654\n",
       "                       18                   1636502\n",
       "                       19                   1258305\n",
       "Fewest orders          0                     218769\n",
       "                       1                     115700\n",
       "                       2                      69375\n",
       "                       3                      51281\n",
       "                       4                      53242\n",
       "                       5                      87961\n",
       "                       6                     290493\n",
       "                       7                     891054\n",
       "                       20                    976156\n",
       "                       21                    795637\n",
       "                       22                    634225\n",
       "                       23                    402316\n",
       "Most orders            9                    2454203\n",
       "                       10                   2761760\n",
       "                       11                   2736140\n",
       "                       12                   2618532\n",
       "                       13                   2660954\n",
       "                       14                   2689136\n",
       "                       15                   2662144\n",
       "                       16                   2535202\n",
       "dtype: int64"
      ]
     },
     "execution_count": 28,
     "metadata": {},
     "output_type": "execute_result"
    }
   ],
   "source": [
    "df_ords_prods_merge.groupby(['busiest_period_of_day', 'order_hour_of_day']).size()"
   ]
  },
  {
   "cell_type": "markdown",
   "id": "8e74bad7-a623-4635-b1fa-bc0b20f2eda3",
   "metadata": {},
   "source": [
    "1. “Most orders” hours are late morning → afternoon\n",
    "Hours 9–16 dominate.\n",
    "\n",
    "10:00–15:00 are the biggest block, all above 2.6 million orders each.\n",
    "Insight: This is the prime shopping window — Instacart has peak demand from late morning to afternoon.\n",
    "\n",
    "2. “Fewest orders” happen overnight\n",
    "Hours 0–6 and late night hours like 20–23 are extremely low (e.g., hour 3 only ~51k orders).\n",
    "Insight: Almost no one shops between midnight and 5 AM — Instacart could schedule maintenance or run updates safely here.\n",
    "\n",
    "3. “Average orders” fill the early morning and evening\n",
    "Hours 8, 17, 18, 19 are “bridge” periods.\n",
    "They have enough traffic to matter (1.2–2M orders) but aren’t overwhelming like midday.\n",
    "Insight: This is where dinner-time shoppers appear — might be a good time for promotions on quick meals or ready-to-eat foods."
   ]
  },
  {
   "cell_type": "markdown",
   "id": "9e96f872-1fab-4296-a0dc-f2498d437336",
   "metadata": {},
   "source": [
    "Overall recommendation for stakeholders\n",
    "“Most orders” (9–16): Focus on app performance here — any slowdown will impact millions of users. Ads/promotions should match this heavy use period.\n",
    "\n",
    "“Fewest orders” (night): Safest time for technical updates or app freezes for maintenance.\n",
    "\n",
    "“Average orders” (evening): Great window for targeted marketing — people might be shopping for dinner or next day items.b"
   ]
  },
  {
   "cell_type": "code",
   "execution_count": 32,
   "id": "ba134d15-3348-4268-abb7-9d6566542721",
   "metadata": {},
   "outputs": [
    {
     "data": {
      "text/plain": [
       "np.int64(32404859)"
      ]
     },
     "execution_count": 32,
     "metadata": {},
     "output_type": "execute_result"
    }
   ],
   "source": [
    "df_ords_prods_merge['order_hour_of_day'].count()"
   ]
  },
  {
   "cell_type": "code",
   "execution_count": 33,
   "id": "3b495480-e6e5-4324-975d-ce8a1bfc1a13",
   "metadata": {},
   "outputs": [
    {
     "data": {
      "text/plain": [
       "np.int64(32404859)"
      ]
     },
     "execution_count": 33,
     "metadata": {},
     "output_type": "execute_result"
    }
   ],
   "source": [
    "df_ords_prods_merge['busiest_period_of_day'].count()"
   ]
  },
  {
   "cell_type": "code",
   "execution_count": 34,
   "id": "51678d48-05d0-4c0c-ac17-57adc461aa2d",
   "metadata": {},
   "outputs": [
    {
     "data": {
      "text/html": [
       "<div>\n",
       "<style scoped>\n",
       "    .dataframe tbody tr th:only-of-type {\n",
       "        vertical-align: middle;\n",
       "    }\n",
       "\n",
       "    .dataframe tbody tr th {\n",
       "        vertical-align: top;\n",
       "    }\n",
       "\n",
       "    .dataframe thead th {\n",
       "        text-align: right;\n",
       "    }\n",
       "</style>\n",
       "<table border=\"1\" class=\"dataframe\">\n",
       "  <thead>\n",
       "    <tr style=\"text-align: right;\">\n",
       "      <th></th>\n",
       "      <th>order_id</th>\n",
       "      <th>user_id</th>\n",
       "      <th>order_number</th>\n",
       "      <th>order_day_of_week</th>\n",
       "      <th>order_hour_of_day</th>\n",
       "      <th>days_since_prior_order</th>\n",
       "      <th>new_customer</th>\n",
       "      <th>product_id</th>\n",
       "      <th>add_to_cart_order</th>\n",
       "      <th>reordered</th>\n",
       "      <th>product_name</th>\n",
       "      <th>aisle_id</th>\n",
       "      <th>department_id</th>\n",
       "      <th>prices</th>\n",
       "      <th>match</th>\n",
       "      <th>price_range_loc</th>\n",
       "      <th>Busiest day</th>\n",
       "      <th>Busiest_days</th>\n",
       "      <th>busiest_period_of_day</th>\n",
       "    </tr>\n",
       "  </thead>\n",
       "  <tbody>\n",
       "    <tr>\n",
       "      <th>0</th>\n",
       "      <td>2539329</td>\n",
       "      <td>1</td>\n",
       "      <td>1</td>\n",
       "      <td>2</td>\n",
       "      <td>8</td>\n",
       "      <td>NaN</td>\n",
       "      <td>True</td>\n",
       "      <td>196</td>\n",
       "      <td>1</td>\n",
       "      <td>0</td>\n",
       "      <td>Soda</td>\n",
       "      <td>77</td>\n",
       "      <td>7</td>\n",
       "      <td>9.0</td>\n",
       "      <td>both</td>\n",
       "      <td>Mid-range</td>\n",
       "      <td>Regularly busy</td>\n",
       "      <td>Regularly busy day</td>\n",
       "      <td>Average orders</td>\n",
       "    </tr>\n",
       "    <tr>\n",
       "      <th>1</th>\n",
       "      <td>2539329</td>\n",
       "      <td>1</td>\n",
       "      <td>1</td>\n",
       "      <td>2</td>\n",
       "      <td>8</td>\n",
       "      <td>NaN</td>\n",
       "      <td>True</td>\n",
       "      <td>14084</td>\n",
       "      <td>2</td>\n",
       "      <td>0</td>\n",
       "      <td>Organic Unsweetened Vanilla Almond Milk</td>\n",
       "      <td>91</td>\n",
       "      <td>16</td>\n",
       "      <td>12.5</td>\n",
       "      <td>both</td>\n",
       "      <td>Mid-range</td>\n",
       "      <td>Regularly busy</td>\n",
       "      <td>Regularly busy day</td>\n",
       "      <td>Average orders</td>\n",
       "    </tr>\n",
       "    <tr>\n",
       "      <th>2</th>\n",
       "      <td>2539329</td>\n",
       "      <td>1</td>\n",
       "      <td>1</td>\n",
       "      <td>2</td>\n",
       "      <td>8</td>\n",
       "      <td>NaN</td>\n",
       "      <td>True</td>\n",
       "      <td>12427</td>\n",
       "      <td>3</td>\n",
       "      <td>0</td>\n",
       "      <td>Original Beef Jerky</td>\n",
       "      <td>23</td>\n",
       "      <td>19</td>\n",
       "      <td>4.4</td>\n",
       "      <td>both</td>\n",
       "      <td>Low-range</td>\n",
       "      <td>Regularly busy</td>\n",
       "      <td>Regularly busy day</td>\n",
       "      <td>Average orders</td>\n",
       "    </tr>\n",
       "    <tr>\n",
       "      <th>3</th>\n",
       "      <td>2539329</td>\n",
       "      <td>1</td>\n",
       "      <td>1</td>\n",
       "      <td>2</td>\n",
       "      <td>8</td>\n",
       "      <td>NaN</td>\n",
       "      <td>True</td>\n",
       "      <td>26088</td>\n",
       "      <td>4</td>\n",
       "      <td>0</td>\n",
       "      <td>Aged White Cheddar Popcorn</td>\n",
       "      <td>23</td>\n",
       "      <td>19</td>\n",
       "      <td>4.7</td>\n",
       "      <td>both</td>\n",
       "      <td>Low-range</td>\n",
       "      <td>Regularly busy</td>\n",
       "      <td>Regularly busy day</td>\n",
       "      <td>Average orders</td>\n",
       "    </tr>\n",
       "    <tr>\n",
       "      <th>4</th>\n",
       "      <td>2539329</td>\n",
       "      <td>1</td>\n",
       "      <td>1</td>\n",
       "      <td>2</td>\n",
       "      <td>8</td>\n",
       "      <td>NaN</td>\n",
       "      <td>True</td>\n",
       "      <td>26405</td>\n",
       "      <td>5</td>\n",
       "      <td>0</td>\n",
       "      <td>XL Pick-A-Size Paper Towel Rolls</td>\n",
       "      <td>54</td>\n",
       "      <td>17</td>\n",
       "      <td>1.0</td>\n",
       "      <td>both</td>\n",
       "      <td>Low-range</td>\n",
       "      <td>Regularly busy</td>\n",
       "      <td>Regularly busy day</td>\n",
       "      <td>Average orders</td>\n",
       "    </tr>\n",
       "  </tbody>\n",
       "</table>\n",
       "</div>"
      ],
      "text/plain": [
       "   order_id  user_id  order_number  order_day_of_week  order_hour_of_day  \\\n",
       "0   2539329        1             1                  2                  8   \n",
       "1   2539329        1             1                  2                  8   \n",
       "2   2539329        1             1                  2                  8   \n",
       "3   2539329        1             1                  2                  8   \n",
       "4   2539329        1             1                  2                  8   \n",
       "\n",
       "   days_since_prior_order  new_customer  product_id  add_to_cart_order  \\\n",
       "0                     NaN          True         196                  1   \n",
       "1                     NaN          True       14084                  2   \n",
       "2                     NaN          True       12427                  3   \n",
       "3                     NaN          True       26088                  4   \n",
       "4                     NaN          True       26405                  5   \n",
       "\n",
       "   reordered                             product_name  aisle_id  \\\n",
       "0          0                                     Soda        77   \n",
       "1          0  Organic Unsweetened Vanilla Almond Milk        91   \n",
       "2          0                      Original Beef Jerky        23   \n",
       "3          0               Aged White Cheddar Popcorn        23   \n",
       "4          0         XL Pick-A-Size Paper Towel Rolls        54   \n",
       "\n",
       "   department_id  prices match price_range_loc     Busiest day  \\\n",
       "0              7     9.0  both       Mid-range  Regularly busy   \n",
       "1             16    12.5  both       Mid-range  Regularly busy   \n",
       "2             19     4.4  both       Low-range  Regularly busy   \n",
       "3             19     4.7  both       Low-range  Regularly busy   \n",
       "4             17     1.0  both       Low-range  Regularly busy   \n",
       "\n",
       "         Busiest_days busiest_period_of_day  \n",
       "0  Regularly busy day        Average orders  \n",
       "1  Regularly busy day        Average orders  \n",
       "2  Regularly busy day        Average orders  \n",
       "3  Regularly busy day        Average orders  \n",
       "4  Regularly busy day        Average orders  "
      ]
     },
     "execution_count": 34,
     "metadata": {},
     "output_type": "execute_result"
    }
   ],
   "source": [
    "df_ords_prods_merge.head()"
   ]
  },
  {
   "cell_type": "markdown",
   "id": "780099a8-3767-4e5d-a426-5e7fbf36056e",
   "metadata": {},
   "source": [
    "# 05 Exporting Data"
   ]
  },
  {
   "cell_type": "code",
   "execution_count": 37,
   "id": "44c9b3c9-a2fa-479c-89a1-8b8e2392dd59",
   "metadata": {},
   "outputs": [],
   "source": [
    "# Export data to pkl\n",
    "df_ords_prods_merge.to_pickle(os.path.join(path, '02 Data','Prepared Data', '4.7_ords_prods_merge_Part 2.pkl'))"
   ]
  },
  {
   "cell_type": "code",
   "execution_count": null,
   "id": "967e6cd6-61b9-4c72-a9e9-3e21fd679e7b",
   "metadata": {},
   "outputs": [],
   "source": []
  }
 ],
 "metadata": {
  "kernelspec": {
   "display_name": "Python [conda env:base] *",
   "language": "python",
   "name": "conda-base-py"
  },
  "language_info": {
   "codemirror_mode": {
    "name": "ipython",
    "version": 3
   },
   "file_extension": ".py",
   "mimetype": "text/x-python",
   "name": "python",
   "nbconvert_exporter": "python",
   "pygments_lexer": "ipython3",
   "version": "3.13.5"
  }
 },
 "nbformat": 4,
 "nbformat_minor": 5
}
