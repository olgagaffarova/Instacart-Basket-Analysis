{
 "cells": [
  {
   "cell_type": "markdown",
   "id": "d0a43dab-6970-4743-a62f-02a17f13e5fd",
   "metadata": {},
   "source": [
    "# 01. Importing Libraries"
   ]
  },
  {
   "cell_type": "code",
   "execution_count": 2,
   "id": "e33eb03b-6208-4920-ba8d-938eb2f817cc",
   "metadata": {},
   "outputs": [],
   "source": [
    "# Importing necessary libraries\n",
    "import pandas as pd\n",
    "import numpy as np\n",
    "import os"
   ]
  },
  {
   "cell_type": "markdown",
   "id": "ca784aca-67ea-4642-8a4c-7deb0fcdce9d",
   "metadata": {},
   "source": [
    "# 02. Python Data Types"
   ]
  },
  {
   "cell_type": "code",
   "execution_count": 28,
   "id": "b5b38728-3f7f-435c-bf71-d4c7333103ff",
   "metadata": {},
   "outputs": [],
   "source": [
    "# Code 3 different ways of reaching a result of 100 by adding or subtracting numeric variables.\n",
    "x, y = 50, 50 "
   ]
  },
  {
   "cell_type": "code",
   "execution_count": 6,
   "id": "8e468ece-b506-410c-974b-db108e9ca041",
   "metadata": {},
   "outputs": [
    {
     "data": {
      "text/plain": [
       "100"
      ]
     },
     "execution_count": 6,
     "metadata": {},
     "output_type": "execute_result"
    }
   ],
   "source": [
    "x+y"
   ]
  },
  {
   "cell_type": "code",
   "execution_count": 7,
   "id": "45e45184-616e-4865-8201-d67194dea89c",
   "metadata": {},
   "outputs": [],
   "source": [
    "x = x-49"
   ]
  },
  {
   "cell_type": "code",
   "execution_count": 8,
   "id": "fcfadb94-80cb-4693-8d94-d9e39f14fc1d",
   "metadata": {},
   "outputs": [
    {
     "name": "stdout",
     "output_type": "stream",
     "text": [
      "1\n"
     ]
    }
   ],
   "source": [
    "print(x) "
   ]
  },
  {
   "cell_type": "code",
   "execution_count": 9,
   "id": "a1e9257d-56f3-4301-881b-675e201663b1",
   "metadata": {},
   "outputs": [],
   "source": [
    "y = 50 + 49"
   ]
  },
  {
   "cell_type": "code",
   "execution_count": 10,
   "id": "a4851ff5-95d5-4215-81a7-b358ed618ad2",
   "metadata": {},
   "outputs": [
    {
     "data": {
      "text/plain": [
       "100"
      ]
     },
     "execution_count": 10,
     "metadata": {},
     "output_type": "execute_result"
    }
   ],
   "source": [
    "x+y"
   ]
  },
  {
   "cell_type": "code",
   "execution_count": 11,
   "id": "6560db9c-a8f5-4747-acc3-e52a1ac031ad",
   "metadata": {},
   "outputs": [
    {
     "name": "stdout",
     "output_type": "stream",
     "text": [
      "100\n"
     ]
    }
   ],
   "source": [
    "a = 40\n",
    "b = 60\n",
    "result1 = a + b\n",
    "print(result1)"
   ]
  },
  {
   "cell_type": "code",
   "execution_count": 16,
   "id": "4d9b52fe-475e-4e80-9cfe-7e4bf394b9e7",
   "metadata": {},
   "outputs": [
    {
     "data": {
      "text/plain": [
       "100"
      ]
     },
     "execution_count": 16,
     "metadata": {},
     "output_type": "execute_result"
    }
   ],
   "source": [
    "result1"
   ]
  },
  {
   "cell_type": "code",
   "execution_count": 27,
   "id": "85aad569-2ce9-4067-8524-e7840675cc21",
   "metadata": {},
   "outputs": [],
   "source": [
    "# Code 2 floating-point variables and divide them by each other.\n",
    "num1 = 15.5\n",
    "num2 = 2.5\n",
    "result2 = num1 / num2"
   ]
  },
  {
   "cell_type": "code",
   "execution_count": 18,
   "id": "26f6ba9d-d3ca-4903-8ad5-b2bf54d6ffde",
   "metadata": {},
   "outputs": [
    {
     "data": {
      "text/plain": [
       "6.2"
      ]
     },
     "execution_count": 18,
     "metadata": {},
     "output_type": "execute_result"
    }
   ],
   "source": [
    "result2"
   ]
  },
  {
   "cell_type": "code",
   "execution_count": 21,
   "id": "4eb418b7-c85d-496e-b6ea-828e384ecbcf",
   "metadata": {},
   "outputs": [
    {
     "data": {
      "text/plain": [
       "float"
      ]
     },
     "execution_count": 21,
     "metadata": {},
     "output_type": "execute_result"
    }
   ],
   "source": [
    "type (num1)\n",
    "type (num2)"
   ]
  },
  {
   "cell_type": "code",
   "execution_count": 24,
   "id": "f74065eb-f2b8-4b30-a15d-325ca1c0c112",
   "metadata": {},
   "outputs": [
    {
     "name": "stdout",
     "output_type": "stream",
     "text": [
      "Cat\n"
     ]
    }
   ],
   "source": [
    "# Creating a short word by joining separate strings\n",
    "letter1 = 'C'\n",
    "letter2 = 'a'\n",
    "letter3 = 't'\n",
    "\n",
    "word = letter1 + letter2 + letter3\n",
    "print(word)"
   ]
  },
  {
   "cell_type": "code",
   "execution_count": 29,
   "id": "36c05bb1-1eab-4987-b604-c2903cc1467d",
   "metadata": {},
   "outputs": [
    {
     "name": "stdout",
     "output_type": "stream",
     "text": [
      "I like Python.\n"
     ]
    }
   ],
   "source": [
    "# Sentence 1\n",
    "part1 = 'I '\n",
    "part2 = 'like '\n",
    "part3 = 'Python.'\n",
    "sentence1 = part1 + part2 + part3\n",
    "print(sentence1)"
   ]
  },
  {
   "cell_type": "code",
   "execution_count": 30,
   "id": "a0fa71f0-3877-4e7f-8b99-2a842e790ff7",
   "metadata": {},
   "outputs": [
    {
     "name": "stdout",
     "output_type": "stream",
     "text": [
      "Hello, Halima.\n"
     ]
    }
   ],
   "source": [
    "# Sentence 2\n",
    "greeting = 'Hello, '\n",
    "name = 'Halima.'\n",
    "sentence2 = greeting + name\n",
    "print(sentence2)"
   ]
  },
  {
   "cell_type": "code",
   "execution_count": 26,
   "id": "2e2f5ee0-9b41-4a44-ac88-feeedbcab741",
   "metadata": {},
   "outputs": [],
   "source": [
    "# Bonus Task\n",
    "h = 'Have a lovely weekend, Halima! ' "
   ]
  },
  {
   "cell_type": "code",
   "execution_count": 23,
   "id": "23242759-ac35-448c-8f4f-bdb0f241664f",
   "metadata": {},
   "outputs": [
    {
     "data": {
      "text/plain": [
       "'Have a lovely weekend, Halima! Have a lovely weekend, Halima! Have a lovely weekend, Halima! Have a lovely weekend, Halima! Have a lovely weekend, Halima! Have a lovely weekend, Halima! Have a lovely weekend, Halima! Have a lovely weekend, Halima! Have a lovely weekend, Halima! Have a lovely weekend, Halima! Have a lovely weekend, Halima! Have a lovely weekend, Halima! Have a lovely weekend, Halima! Have a lovely weekend, Halima! Have a lovely weekend, Halima! Have a lovely weekend, Halima! Have a lovely weekend, Halima! Have a lovely weekend, Halima! Have a lovely weekend, Halima! Have a lovely weekend, Halima! Have a lovely weekend, Halima! Have a lovely weekend, Halima! Have a lovely weekend, Halima! Have a lovely weekend, Halima! Have a lovely weekend, Halima! Have a lovely weekend, Halima! Have a lovely weekend, Halima! Have a lovely weekend, Halima! Have a lovely weekend, Halima! Have a lovely weekend, Halima! Have a lovely weekend, Halima! Have a lovely weekend, Halima! Have a lovely weekend, Halima! Have a lovely weekend, Halima! Have a lovely weekend, Halima! Have a lovely weekend, Halima! Have a lovely weekend, Halima! Have a lovely weekend, Halima! Have a lovely weekend, Halima! Have a lovely weekend, Halima! Have a lovely weekend, Halima! Have a lovely weekend, Halima! Have a lovely weekend, Halima! Have a lovely weekend, Halima! Have a lovely weekend, Halima! Have a lovely weekend, Halima! Have a lovely weekend, Halima! Have a lovely weekend, Halima! Have a lovely weekend, Halima! Have a lovely weekend, Halima! Have a lovely weekend, Halima! Have a lovely weekend, Halima! Have a lovely weekend, Halima! Have a lovely weekend, Halima! Have a lovely weekend, Halima! Have a lovely weekend, Halima! Have a lovely weekend, Halima! Have a lovely weekend, Halima! Have a lovely weekend, Halima! Have a lovely weekend, Halima! Have a lovely weekend, Halima! Have a lovely weekend, Halima! Have a lovely weekend, Halima! Have a lovely weekend, Halima! Have a lovely weekend, Halima! Have a lovely weekend, Halima! Have a lovely weekend, Halima! Have a lovely weekend, Halima! Have a lovely weekend, Halima! Have a lovely weekend, Halima! Have a lovely weekend, Halima! Have a lovely weekend, Halima! Have a lovely weekend, Halima! Have a lovely weekend, Halima! Have a lovely weekend, Halima! Have a lovely weekend, Halima! Have a lovely weekend, Halima! Have a lovely weekend, Halima! Have a lovely weekend, Halima! Have a lovely weekend, Halima! Have a lovely weekend, Halima! Have a lovely weekend, Halima! Have a lovely weekend, Halima! Have a lovely weekend, Halima! Have a lovely weekend, Halima! Have a lovely weekend, Halima! Have a lovely weekend, Halima! Have a lovely weekend, Halima! Have a lovely weekend, Halima! Have a lovely weekend, Halima! Have a lovely weekend, Halima! Have a lovely weekend, Halima! Have a lovely weekend, Halima! Have a lovely weekend, Halima! Have a lovely weekend, Halima! Have a lovely weekend, Halima! Have a lovely weekend, Halima! Have a lovely weekend, Halima! Have a lovely weekend, Halima! Have a lovely weekend, Halima! '"
      ]
     },
     "execution_count": 23,
     "metadata": {},
     "output_type": "execute_result"
    }
   ],
   "source": [
    "h*100"
   ]
  }
 ],
 "metadata": {
  "kernelspec": {
   "display_name": "Python [conda env:base] *",
   "language": "python",
   "name": "conda-base-py"
  },
  "language_info": {
   "codemirror_mode": {
    "name": "ipython",
    "version": 3
   },
   "file_extension": ".py",
   "mimetype": "text/x-python",
   "name": "python",
   "nbconvert_exporter": "python",
   "pygments_lexer": "ipython3",
   "version": "3.13.5"
  }
 },
 "nbformat": 4,
 "nbformat_minor": 5
}
